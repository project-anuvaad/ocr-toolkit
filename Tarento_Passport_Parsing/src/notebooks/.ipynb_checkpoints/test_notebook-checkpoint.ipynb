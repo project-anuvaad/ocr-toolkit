{
 "cells": [
  {
   "cell_type": "code",
   "execution_count": 1,
   "id": "dff6b21f",
   "metadata": {},
   "outputs": [],
   "source": [
    "import os\n",
    "import sys\n",
    "import uuid\n",
    "import cv2\n",
    "import numpy as np\n",
    "import matplotlib.pyplot as plt\n",
    "plt.rcParams['figure.dpi'] = 300\n",
    "import re\n",
    "import glob\n",
    "import json\n",
    "import requests\n",
    "import copy\n",
    "from time import sleep\n",
    "\n",
    "import pyperclip\n"
   ]
  },
  {
   "cell_type": "code",
   "execution_count": 2,
   "id": "179244d7",
   "metadata": {},
   "outputs": [
    {
     "name": "stdout",
     "output_type": "stream",
     "text": [
      "[2022-02-19 10:49:17,860] {geos.py:73} MainThread DEBUG in geos: Found GEOS DLL: <CDLL '/home/ubuntu/eval/lib/python3.8/site-packages/shapely/.libs/libgeos_c-a68605fd.so.1.13.1', handle 5ec63f0 at 0x7f98433196a0>, using it.\n",
      "[2022-02-19 10:49:17,874] {geos.py:38} MainThread DEBUG in geos: Trying `CDLL(libc.so.6)`\n",
      "[2022-02-19 10:49:17,876] {geos.py:55} MainThread DEBUG in geos: Library path: 'libc.so.6'\n",
      "[2022-02-19 10:49:17,876] {geos.py:56} MainThread DEBUG in geos: DLL: <CDLL 'libc.so.6', handle 7f98f4b85000 at 0x7f9843319f40>\n",
      "[2022-02-19 10:49:24,157] {checkpoint.py:138} MainThread INFO in checkpoint: [Checkpointer] Loading from /home/ubuntu/layout-model-training/outputs/prima/mask_rcnn_R_50_FPN_3x/model_0024999.pth ...\n",
      "Model is using cuda\n",
      "Loading weights of refiner from checkpoint (./model/craft_refiner_CTW1500.pth)\n"
     ]
    }
   ],
   "source": [
    "nb_dir = '/'.join(os.getcwd().split('/')[:-1])\n",
    "sys.path.append(nb_dir)\n",
    "sys.path.append(os.path.split(nb_dir)[0])\n",
    "\n",
    "import config\n",
    "import src.utilities.app_context as app_context\n",
    "app_context.init()\n",
    "\n",
    "config.CRAFT_MODEL_PATH =  \"/home/ubuntu/tesseract_ulca_v2/src/utilities/craft_pytorch/model/craft_mlt_25k.pth\"\n",
    "config.CRAFT_REFINE_MODEL_PATH = '/home/ubuntu/tesseract_ulca_v2/src/utilities/craft_pytorch/model/craft_refiner_CTW1500.pth'\n",
    "\n",
    "config.LINE_LAYOUT_MODEL_PATH = \"/home/ubuntu/layout-model-training/outputs/prima/mask_rcnn_R_50_FPN_3x/model_0024999.pth\"\n",
    "config.LINE_LAYOUT_CONFIG_PATH = \"/home/ubuntu/layout-model-training/outputs/prima/mask_rcnn_R_50_FPN_3x/config.yaml\"\n",
    "config.EAST_MODEL = \"/home/ubuntu/tesseract_ulca_v2/src/utilities/east/frozen_east_text_detection.pb\"\n",
    "\n",
    "\n",
    "from src.services.main import OCR"
   ]
  },
  {
   "cell_type": "code",
   "execution_count": null,
   "id": "8945aee9",
   "metadata": {},
   "outputs": [],
   "source": []
  },
  {
   "cell_type": "code",
   "execution_count": 3,
   "id": "52e7d601",
   "metadata": {},
   "outputs": [],
   "source": [
    "def get_app_context():\n",
    "\n",
    "    app_context.application_context = {  \n",
    "    \"config\": {\n",
    "        \"language\": {\n",
    "            \"sourceLanguage\": \"ta\"\n",
    "        }\n",
    "        \n",
    "    },\n",
    "    \"image\":[{\n",
    "    \"local_path\": \"/home/ubuntu/passport_parsing_v1/input/71287622.jpg\"}\n",
    "    ],\n",
    "    \"dev_key\" : \"a861ff34-62cd-4dd5-b9f9-dd4733249a4\"\n",
    "}\n",
    "    \n",
    "    return app_context"
   ]
  },
  {
   "cell_type": "code",
   "execution_count": 4,
   "id": "f3decc25",
   "metadata": {},
   "outputs": [
    {
     "name": "stdout",
     "output_type": "stream",
     "text": [
      "[2022-02-19 10:49:28,089] {loghandler.py:49} MainThread DEBUG in loghandler: process starting  for request {'config': {'language': {'sourceLanguage': 'ta'}}, 'image': [{'local_path': '/home/ubuntu/passport_parsing_v1/input/pass1.jpg'}], 'dev_key': 'a861ff34-62cd-4dd5-b9f9-dd4733249a4'}\n",
      "Line  detection started:<module 'src.utilities.app_context' from '/home/ubuntu/passport_parsing_v1/src/utilities/app_context.py'>\n",
      "regions present in image 12\n",
      "Line  detection successfully completed:<module 'src.utilities.app_context' from '/home/ubuntu/passport_parsing_v1/src/utilities/app_context.py'>\n"
     ]
    },
    {
     "name": "stderr",
     "output_type": "stream",
     "text": [
      "/home/ubuntu/eval/lib/python3.8/site-packages/torch/_tensor.py:575: UserWarning: floor_divide is deprecated, and will be removed in a future version of pytorch. It currently rounds toward 0 (like the 'trunc' function NOT 'floor'). This results in incorrect rounding for negative values.\n",
      "To keep the current behavior, use torch.div(a, b, rounding_mode='trunc'), or for actual floor division, use torch.div(a, b, rounding_mode='floor'). (Triggered internally at  /pytorch/aten/src/ATen/native/BinaryOps.cpp:467.)\n",
      "  return torch.floor_divide(self, other)\n",
      "/home/ubuntu/eval/lib/python3.8/site-packages/torch/nn/functional.py:718: UserWarning: Named tensors and all their associated APIs are an experimental feature and subject to change. Please do not use them for anything important until they are released as stable. (Triggered internally at  /pytorch/c10/core/TensorImpl.h:1156.)\n",
      "  return torch.max_pool2d(input, kernel_size, stride, padding, dilation, ceil_mode)\n"
     ]
    },
    {
     "name": "stdout",
     "output_type": "stream",
     "text": [
      "text = Type\n",
      "Fo\n",
      "text at\n",
      "hae 5 = Country Goa\n",
      "IND\n",
      "text Fem [Surname\n",
      "| GEELANI\n",
      "text GO0782308\n",
      "text fa ovat wom [Given Names\n",
      "SYED ALI\n",
      "text Fiera Nationality\n",
      "INDIAN\n",
      "text on [Sex\n",
      "MN\n",
      "text Fein: Date of Birth\n",
      "29/09/1950\n",
      "text — ee BT LX\n",
      "fr a emce of Hirth i ,\n",
      "\n",
      "ZOORIMANZ WATLAB (SOPOBE\n",
      "a MTL.\n",
      "text A IA wn Tu Place of Issue\n",
      "~ SRINAGAR\n",
      "text FN 25% = ff [Date of Issue\n",
      "08/03/2007\n",
      "text Feit afl fai [Dato of Expiry\n",
      "07/03/2008\n",
      "data [{'identifier': '407f62fc-0d2b-4e0c-88fe-8a72b7c1ec52', 'boundingBox': {'vertices': [{'x': 385.6596984863281, 'y': 45.474822998046875}, {'x': 484.7000427246094, 'y': 45.474822998046875}, {'x': 484.7000427246094, 'y': 87.93199920654297}, {'x': 385.6596984863281, 'y': 87.93199920654297}]}, 'score': '1.00', 'class': 'type', 'text': ['= Type', 'Fo']}, {'identifier': 'bf11550b-6df1-49a0-a444-90b33c0c5122', 'boundingBox': {'vertices': [{'x': 525.4797973632812, 'y': 59.875755310058594}, {'x': 730.38671875, 'y': 59.875755310058594}, {'x': 730.38671875, 'y': 111.67005920410156}, {'x': 525.4797973632812, 'y': 111.67005920410156}]}, 'score': '1.00', 'class': 'country', 'text': ['at', 'hae 5 = Country Goa', 'IND']}, {'identifier': 'fcc00da1-b4b7-4af4-bc07-ebab5fa9a1bb', 'boundingBox': {'vertices': [{'x': 381.4219665527344, 'y': 99.06391143798828}, {'x': 533.7009887695312, 'y': 99.06391143798828}, {'x': 533.7009887695312, 'y': 149.498291015625}, {'x': 381.4219665527344, 'y': 149.498291015625}]}, 'score': '1.00', 'class': 'sn', 'text': ['Fem [Surname', '| GEELANI']}, {'identifier': 'ee56f19f-3c63-41a0-8ced-683c8287690d', 'boundingBox': {'vertices': [{'x': 747.0206909179688, 'y': 82.46894836425781}, {'x': 972.6508178710938, 'y': 82.46894836425781}, {'x': 972.6508178710938, 'y': 150.68678283691406}, {'x': 747.0206909179688, 'y': 150.68678283691406}]}, 'score': '1.00', 'class': 'pass', 'text': ['GO0782308']}, {'identifier': 'eefa3344-96e4-4a42-91b5-eea8b4a8dbef', 'boundingBox': {'vertices': [{'x': 384.8139343261719, 'y': 153.43670654296875}, {'x': 607.9387817382812, 'y': 153.43670654296875}, {'x': 607.9387817382812, 'y': 200.60316467285156}, {'x': 384.8139343261719, 'y': 200.60316467285156}]}, 'score': '1.00', 'class': 'name', 'text': ['fa ovat wom [Given Names', 'SYED ALI']}, {'identifier': 'e9a4d09a-0d56-4a54-85ee-d90dc896d5b3', 'boundingBox': {'vertices': [{'x': 382.5259094238281, 'y': 206.94847106933594}, {'x': 561.2174682617188, 'y': 206.94847106933594}, {'x': 561.2174682617188, 'y': 258.80633544921875}, {'x': 382.5259094238281, 'y': 258.80633544921875}]}, 'score': '1.00', 'class': 'nt', 'text': ['Fiera Nationality', 'INDIAN']}, {'identifier': '9aa12641-b017-4195-94a4-6290b9625a92', 'boundingBox': {'vertices': [{'x': 627.3572387695312, 'y': 217.05091857910156}, {'x': 722.863037109375, 'y': 217.05091857910156}, {'x': 722.863037109375, 'y': 267.0088195800781}, {'x': 627.3572387695312, 'y': 267.0088195800781}]}, 'score': '1.00', 'class': 'sex', 'text': ['on [Sex', 'MN']}, {'identifier': 'f76a5769-f0a5-4449-8cd5-875b433e76c7', 'boundingBox': {'vertices': [{'x': 775.9464111328125, 'y': 229.30923461914062}, {'x': 981.9388427734375, 'y': 229.30923461914062}, {'x': 981.9388427734375, 'y': 282.6665954589844}, {'x': 775.9464111328125, 'y': 282.6665954589844}]}, 'score': '1.00', 'class': 'dob', 'text': ['Fein: Date of Birth', '29/09/1950']}, {'identifier': '51d2f6d4-84d5-4047-8029-d875a102ab72', 'boundingBox': {'vertices': [{'x': 446.3664245605469, 'y': 269.9794006347656}, {'x': 925.01123046875, 'y': 269.9794006347656}, {'x': 925.01123046875, 'y': 330.1492919921875}, {'x': 446.3664245605469, 'y': 330.1492919921875}]}, 'score': '1.00', 'class': 'pob', 'text': ['— ee BT LX', 'fr a emce of Hirth i ,', 'ZOORIMANZ WATLAB (SOPOBE', 'a MTL.']}, {'identifier': 'cb3625ce-e9f3-43ca-8d07-9a416a089a7c', 'boundingBox': {'vertices': [{'x': 442.1582946777344, 'y': 321.68060302734375}, {'x': 729.1708374023438, 'y': 321.68060302734375}, {'x': 729.1708374023438, 'y': 369.32135009765625}, {'x': 442.1582946777344, 'y': 369.32135009765625}]}, 'score': '1.00', 'class': 'poi', 'text': ['A IA wn Tu Place of Issue', '~ SRINAGAR']}, {'identifier': '7c90dd6c-2f97-4d20-a70a-73af9d38ca26', 'boundingBox': {'vertices': [{'x': 441.25653076171875, 'y': 376.0332946777344}, {'x': 714.420166015625, 'y': 376.0332946777344}, {'x': 714.420166015625, 'y': 426.38134765625}, {'x': 441.25653076171875, 'y': 426.38134765625}]}, 'score': '1.00', 'class': 'doi', 'text': ['FN 25% = ff [Date of Issue', '08/03/2007']}, {'identifier': 'e41900de-3b71-4401-b4ba-e89a173375d8', 'boundingBox': {'vertices': [{'x': 715.4166870117188, 'y': 384.2539978027344}, {'x': 976.5048217773438, 'y': 384.2539978027344}, {'x': 976.5048217773438, 'y': 439.1661071777344}, {'x': 715.4166870117188, 'y': 439.1661071777344}]}, 'score': '1.00', 'class': 'doe', 'text': ['Feit afl fai [Dato of Expiry', '07/03/2008']}]\n",
      "type\n",
      "country\n",
      "sn\n",
      "pass\n",
      "name\n",
      "nt\n",
      "sex\n",
      "dob\n",
      "pob\n",
      "poi\n",
      "doi\n",
      "doe\n",
      "data {'passport no.': 'GO0782308', 'Surname': '| GEELANI', 'First Name': 'SYED ALI', 'Nationality': 'INDIAN', 'Date of Birth': '29/09/1950', 'Place of Birth': 'ZOORIMANZ WATLAB (SOPOBE a MTL.', 'Gender': 'M', 'Date of Expiry': '07/03/2008', 'Date of Issue': '08/03/2007'}\n",
      "[2022-02-19 10:49:33,332] {loghandler.py:21} MainThread INFO in loghandler:  Completed ocr process\n"
     ]
    }
   ],
   "source": [
    "resp = OCR(get_app_context())"
   ]
  },
  {
   "cell_type": "code",
   "execution_count": null,
   "id": "547f2aae",
   "metadata": {},
   "outputs": [],
   "source": []
  },
  {
   "cell_type": "code",
   "execution_count": null,
   "id": "d3cb76c7",
   "metadata": {},
   "outputs": [],
   "source": [
    "resp"
   ]
  },
  {
   "cell_type": "code",
   "execution_count": null,
   "id": "4d2ed806",
   "metadata": {},
   "outputs": [],
   "source": [
    "tamil_image=[\"https://4.imimg.com/data4/PD/HE/NO/NSDMERP-31895448/31895448product11536052869-500x500.jpg\",\n",
    "            \"https://4.imimg.com/data4/NG/SC/NSDMERP-7025795/trafficrootboard-500x500.png\",\n",
    "             \"https://i.pinimg.com/originals/e8/88/67/e88867082f23aba9fe721ac2549c4335.jpg\"\n",
    "             \"https://media.gettyimages.com/photos/station-name-board-at-a-railroad-station-kanchipuram-tamil-nadu-india-picture-id140831311?s=612x612\"\n",
    "            \"https://i1.wp.com/thecognate.com/wp-content/uploads/2019/06/Fathima-Maqdooma-Morgenall.png?ssl=1\"\n",
    "            ]\n"
   ]
  },
  {
   "cell_type": "code",
   "execution_count": null,
   "id": "8bcd1460",
   "metadata": {},
   "outputs": [],
   "source": [
    "pass_images=[\n",
    "    \"https://github.com/Lal4Tech/OCR-Identity-Cards/blob/master/Passport/passport_sample_cropped.jpg?raw=true\",\n",
    "    \"https://pbs.twimg.com/media/DaNab6_XUAIJdbV.jpg\",\n",
    "    \"https://imgv2-1-f.scribdassets.com/img/document/395424981/original/81feaf6802/1639748909?v=1\"\n",
    "    \n",
    "]"
   ]
  },
  {
   "cell_type": "code",
   "execution_count": null,
   "id": "050f8ba5",
   "metadata": {},
   "outputs": [],
   "source": [
    "data  = ['भारत गणराज्य REPUBLIC OF INDIA', 'पासपोर्ट नं./ Passport No.', 'ष्ट्र काड / Country Code', 'सर्प / Type', 'D', 'IND', 'H2908283', 'स्पा / Surname', 'टिया गया नाम / Given Name(s)', 'MOHAMMED MUDASEER', 'Tसियि / Date of Birth', 'rnn / Nationality', 'सिंग / Sex', 'INDIAN', '04/04/1982', 'M', 'जन्म स्थान / Place of Birth', 'HYDERABAD', 'जारी करने का स्थान / Place of lssue', 'M. PAOS', 'HYDERABAD', 'urf S a Rif / Date of Issue', 'warta a RR / Date of Expiry', '09/02/2019', '10/02/2009', 'P<IND<<MOHAMME D<MUDASEER<<<<<<<<<<<<<<<<<<<<', 'H2908283<5IND8204044M1902097<<-:', '<<<<<']\n",
    "#data=['Ua OUTS REPUBLIC OF INDIA', 'reut ./ Passport No.', 'RTS Ts / Country Code', '=I lype', 'B', 'IND', 'K8016274', 'TTA / Surname', 'MANISH', 'Tda Ta T / Given Name(s)', 'GIRI', 'erecta / Nationality', 'fès / Sex', '-sai / Date of Birth', '17/01/1997', 'INDIAN', 'S- Te / Place of Birth', 'OLARIKKARA, KERALA', 'SIY BYA p T / Place of issue', 'COCHIN', 'Wese lotta', 'Gr rA a fèri / Date of Issue', 'waa a fafa / Date of Expiry', '12/03/2013', '27/07/2018', 'P<GIRI<<MANISH<<<<<K<K<IIIKIKIKIAIACIAIKIISCIKIAKKIC', 'K8016274<2IND9701170M1807277<<<<<<<<<<<<<<< 2']\n",
    "#data=['+H TUIN TSA REPUBLIC OF INDIA', 'IU', 'P4470692', 'MUHAMMED', 'APF UDDIN', 'WIYATA N INDIAN', '17/08/1988', 'HYDERABAD, TELANGANA', 'TRAS', 'HYDERABAD', 'PA', '08/09/2016', 'uUr/UY7/2U26', 'P<INDMOHAMMED<<NIZAM<UDDIN<<<<<C<CACa<<<<a<a<', 'P4470692<5IND8808176M2609072<<<<<<<<<<<<<<<0']\n",
    "#data=['TYE TTUINTUN REPUBLIC OF INDIA', 'ND', 'P2251480', 'SHINDE', '/ Liver', 'SANDESH RAMDAS', '03/04/1990', 'WIYATA / INDIAN', 'n0 oF DIri', 'BORI KH, MAHARASHTRA', '\"1a O! asul', 'PUNE', 'EGLA', \"' Uate Of a\", 'Cp', '30/08/2026', '31/08/2016', 'P<INDSHINDE<<SANDESH<RAMDAS<<<<eed00<<<<<<<<<', 'P2251480<11IND9006038M2608307<<<<<<<<<<<<<<<B', 'Scanned by CamScanner']\n",
    "#data=['HTI TTUT TSY REPUBLIC OF INDIA', 'mate i. / Passport No.', 'WI WTS / Country Code', '=u lype', 's7427035', 'IND', 'A', '=\" / Surname', 'GEORGE DEVA SAHAYAM', 'fran an s Given Name(s)', 'JOE ANTON JERIFF', 'nidi Date of Binh', 'fér / Sex', 'rrufe / Nationalty', '13/07/1998', 'UTAT N INDIAN', 'M', 'us Te Pice c! Birth', 'THISAYANVILAI, TAMIL NADU', 'oufi rA a a / Place of Issue', 'CHENNAI', '77 Data of Expiry', 'TAI', 'wt mnei 1 FiA / Date of Issue.', '29/10/2028', '30/10/2018', 'P<INDGEORGE<DEVA<SAHAYAM<<JOE<ANTON<JERIFF<<', '37427035<2IND9807132M2810294<<<<<<<<<<<<<<<6', 'Scanned by CamScanner']\n",
    "#data=['HA TUTIGA REPUBLIC OF INDIA', \"' Country Code\", 'ror = / Passpoti Na.', 'E', 'iyi', 'R7123405', '/ Surname', 'PA T I Livan |', 'MAQDOOMA FATHIMA', '1 SAE', 'CHIE / NALON', '/ Data of Birth', 'urri INDIAN', '23/06/1981', 'GP Ta PIAC Ol DIrith', 'CHENNAI, TAMIL NADU', 'O T I TI / FACe OT', 'BENGALURU', 'S e I N / Date of as', 'Mploma jaina', '14/12/2027', '15/12/2017', 'P<IND<<MAQDOOMA<FATHIMA<<<<<<<<X <<<', 'R7123405<3IND8106230F2712147<<<<<<<<<<<<<<< 2']\n",
    "#data=['TYPI TTUTYTUSJ BEPUBLIC OF TINDIA', '-s Country Code', '\"p \\' F\\'asspor 0.', 'T', 'IND', '”', '17213058', 'PASHA', 'rr / Given Narn', '1HFAN', 'E', 'rW / Temon', '31/03/1980', 'INDIAN', 'LE', 'BANGALORE KABNATAKA', '\"s / Fao O1 ns', 'DUBAI', 'N', 'I / Date of as', '?23/03/2024', '24/03/2014']\n",
    "data=['भारल गणराज्य REPUBLIC OF INDIA', 'टाइप । । ype', 'reia =E /Couniry Code', 'घारी ग. ।Nassport NO.', 'IND', 'BB 5000479', 'yus /[oSurname', 'SHAH', 'सिये कयै मामा Given Names', 'RIYA', 'uan Nationality', 'Tom /Sex', 'जन्मालियि Date of Birth', '05/05/1998', 'INDIAN', 't auns Place of Birth', 'GUJARAT', '=', 'AE', 'मारी रले खयं स्था [Place of Issue', 'DELHI', 'जारी छारे यछा Ta Date Of Issue IMGT a WAT /Vale ol EXpiry', '28/06/2001', '29/06/2000', '4', 'P< INDSHAH<<RIYA<<<', 'B5000479<2IND9805057F0106289<<<<<<<<<<<<<<<?']\n",
    "data=['\"`t SI REPUBLIC OF IEDER', 'G927', 'IND', 'KUNAR', 'MOHAN', 'PVO', '241/0', 'INDIAN', 'f Dur', 'MANDYA KARNATAKA', 'N', 'SYDNEY', '7', '08/07/7/?72008', 'a7', 'aN A']"
   ]
  },
  {
   "cell_type": "code",
   "execution_count": null,
   "id": "b14a9618",
   "metadata": {},
   "outputs": [],
   "source": [
    "\n",
    "def clean_data(data):\n",
    "\n",
    "    filetered_lines=[]\n",
    "    for line in data:\n",
    "        words=line.split()\n",
    "        l = [w for w in words if re.match(r'[a-zA-Z0-9_.)-/(]*$', w, re.I)]\n",
    "\n",
    "        filetered_line = \" \".join(k for k in l if k != \"/\")\n",
    "        filetered_lines.append(filetered_line)\n",
    "    return filetered_lines\n"
   ]
  },
  {
   "cell_type": "code",
   "execution_count": null,
   "id": "974dda69",
   "metadata": {},
   "outputs": [],
   "source": [
    "filetered_lines=clean_data(data)"
   ]
  },
  {
   "cell_type": "code",
   "execution_count": null,
   "id": "78a3e7df",
   "metadata": {},
   "outputs": [],
   "source": [
    "filetered_lines=data"
   ]
  },
  {
   "cell_type": "code",
   "execution_count": null,
   "id": "354999c3",
   "metadata": {},
   "outputs": [],
   "source": [
    " re.match(r'[A-Za-z]{1}[0-9]{7}', 'a7123405')"
   ]
  },
  {
   "cell_type": "code",
   "execution_count": null,
   "id": "1236d200",
   "metadata": {},
   "outputs": [],
   "source": [
    "def find_and_remove_index(lis,ele,tmp_indx):\n",
    "    if ele is not None:\n",
    "        indx = lis.index(ele)\n",
    "        del lis[indx]\n",
    "    \n",
    "    return lis"
   ]
  },
  {
   "cell_type": "code",
   "execution_count": null,
   "id": "b4a31ffb",
   "metadata": {},
   "outputs": [],
   "source": [
    "def find_index(lis,ele,tmp_indx):\n",
    "    if ele is not None:\n",
    "        indx = lis.index(ele)\n",
    "        return indx\n",
    "    return tmp_indx"
   ]
  },
  {
   "cell_type": "code",
   "execution_count": null,
   "id": "7f0d27e2",
   "metadata": {},
   "outputs": [],
   "source": [
    "def filter_dates(ids,eds):\n",
    "    if ids is not None and eds is not None:\n",
    "        if int(ids.split(\"/\")[-1])>int(eds.split(\"/\")[-1]):\n",
    "            return eds,ids\n",
    "        else:\n",
    "            return ids,eds\n",
    "    else:\n",
    "        return ids,eds"
   ]
  },
  {
   "cell_type": "code",
   "execution_count": null,
   "id": "f569cc67",
   "metadata": {},
   "outputs": [],
   "source": []
  },
  {
   "cell_type": "code",
   "execution_count": null,
   "id": "68c20c27",
   "metadata": {},
   "outputs": [],
   "source": []
  },
  {
   "cell_type": "code",
   "execution_count": null,
   "id": "c2cfa000",
   "metadata": {},
   "outputs": [],
   "source": [
    "classes =[\n",
    "    \"Passport No.\",\n",
    "    \"Given Name(s)\",\n",
    "    \"Surname\",\n",
    "    \"Date of Birth\",\n",
    "    \"Nationality\",\n",
    "    \"Sex\",\n",
    "    \"Place of Birth\",\n",
    "    \"Date of Issue\",\n",
    "    \"Date of Expiry\"\n",
    "    \n",
    "]"
   ]
  },
  {
   "cell_type": "code",
   "execution_count": null,
   "id": "1439feb9",
   "metadata": {},
   "outputs": [],
   "source": [
    "global prev_idx\n",
    "prev_idx=0"
   ]
  },
  {
   "cell_type": "code",
   "execution_count": null,
   "id": "dd0e35df",
   "metadata": {},
   "outputs": [],
   "source": [
    "def check_pattern(pattern,lis,cls,prev_idx=None,content_check=None):\n",
    "    tmp_lis = lis\n",
    "    try:\n",
    "        for idx,key in enumerate(lis):\n",
    "            if cls in key:\n",
    "                if content_check is not None:\n",
    "                    l=[w for w in lis[idx+1:] if re.match(pattern, w) and content_check in w]\n",
    "                else:\n",
    "                    l=[w for w in lis[idx+1:] if re.match(pattern, w) and w not in classes]\n",
    "                if len(l)>0:\n",
    "                    idx  = find_index(lis,l[0],idx+1)\n",
    "                if len(l)>0:  return idx,l[0]\n",
    "\n",
    "        if prev_idx is not None:\n",
    "            lis=lis[prev_idx+1:]\n",
    "\n",
    "        if content_check is not None:\n",
    "            l=[w for w in lis if re.match(pattern, w) and  content_check in w]\n",
    "\n",
    "        else:\n",
    "            l=[w for w in lis if re.match(pattern, w) and w not in classes]\n",
    "        if len(l)>0:\n",
    "            idx  = find_index(tmp_lis,l[0],prev_idx)\n",
    "            return idx,l[0]\n",
    "        return prev_idx,None\n",
    "    except:\n",
    "        return prev_idx,None\n",
    "\n",
    "class PassportClass():\n",
    "    \n",
    "    def __init__(self,prev_idx,filetered_lines):\n",
    "        self.prev_idx = prev_idx\n",
    "        self.filetered_lines=filetered_lines\n",
    "    \n",
    "    \n",
    "    def extract_passport_number(self,cls):\n",
    "        \n",
    "        self.prev_idx, val = check_pattern(r'[A-Za-z]{1}[0-9]{7}',self.filetered_lines,cls,prev_idx=None)\n",
    "        return val\n",
    "    def extract_candidate_name(self,cls):\n",
    "        \n",
    "        self.prev_idx, val = check_pattern(r'[A-Za-z]',self.filetered_lines,cls,prev_idx=self.prev_idx)\n",
    "        return val\n",
    "\n",
    "    def extract_surname(self,cls):\n",
    "        self.prev_idx, val = check_pattern(r'[A-Za-z]',self.filetered_lines,cls,prev_idx=self.prev_idx)\n",
    "        return val\n",
    "    def extract_dob(self,cls):\n",
    "        tmp_idx=self.prev_idx\n",
    "        self.prev_idx, val = check_pattern(r'\\d{2}\\/\\d{2}\\/\\d{4}',self.filetered_lines,cls)\n",
    "        self.filetered_lines = find_and_remove_index(self.filetered_lines,val,tmp_idx)\n",
    "        self.prev_idx = tmp_idx\n",
    "        return val\n",
    "\n",
    "    def extract_nationality(self,cls):\n",
    "        content_check = \"INDIAN\"\n",
    "        self.prev_idx, val = check_pattern(r'[A-Za-z]',self.filetered_lines,cls,prev_idx=self.prev_idx,content_check=content_check)\n",
    "        return val\n",
    "\n",
    "    def extract_gender(self,cls):\n",
    "        for idx,key in enumerate(self.filetered_lines):\n",
    "            if cls in key:\n",
    "                l=[w for w in self.filetered_lines if w  in [\"M\",\"F\",\"m\",\"f\"]]\n",
    "                if len(l)>0:  return l[0]\n",
    "        l=[w for w in self.filetered_lines if w  in [\"M\",\"F\",\"m\",\"f\"]]\n",
    "        if len(l)>0:\n",
    "            return l[0]\n",
    "        return None\n",
    "    \n",
    "    def extract_pob(self,cls):\n",
    "        self.prev_idx, val = check_pattern(r'[A-Za-z]',self.filetered_lines,cls,self.prev_idx)\n",
    "        return val\n",
    "\n",
    "    def extract_doi(self,cls):\n",
    "        self.prev_idx, val = check_pattern(r'\\d{2}\\/\\d{2}\\/\\d{4}',self.filetered_lines,cls)\n",
    "        self.filetered_lines = find_and_remove_index(self.filetered_lines,val,self.prev_idx)\n",
    "        return val\n",
    "\n",
    "    def extract_doe(self,cls):\n",
    "        self.prev_idx, val = check_pattern(r'\\d{2}\\/\\d{2}\\/\\d{4}',self.filetered_lines,cls)\n",
    "        return val\n",
    "        \n"
   ]
  },
  {
   "cell_type": "code",
   "execution_count": null,
   "id": "37d4987a",
   "metadata": {},
   "outputs": [],
   "source": [
    "pass_cls = PassportClass(prev_idx=0,filetered_lines=filetered_lines)\n"
   ]
  },
  {
   "cell_type": "code",
   "execution_count": null,
   "id": "697f4f7f",
   "metadata": {},
   "outputs": [],
   "source": [
    "passport = pass_cls.extract_passport_number(\"Passport No.\")\n",
    "print(\"passport no: \",passport)\n",
    "\n",
    "    "
   ]
  },
  {
   "cell_type": "code",
   "execution_count": null,
   "id": "cdc563e6",
   "metadata": {},
   "outputs": [],
   "source": [
    "candidate_surname =pass_cls.extract_surname(\"Surname\")\n",
    "print(\"candidate_surname: \",candidate_surname)"
   ]
  },
  {
   "cell_type": "code",
   "execution_count": null,
   "id": "0379cf84",
   "metadata": {},
   "outputs": [],
   "source": [
    "candidate_name = pass_cls.extract_candidate_name(\"Given Name\")\n",
    "print(\"candidate_name: \",candidate_name)\n"
   ]
  },
  {
   "cell_type": "code",
   "execution_count": null,
   "id": "9030239e",
   "metadata": {},
   "outputs": [],
   "source": [
    "candidate_nationality =pass_cls.extract_nationality(\"Nationality\")\n",
    "print(\"candidate_nationality: \",candidate_nationality)"
   ]
  },
  {
   "cell_type": "code",
   "execution_count": null,
   "id": "1523a70b",
   "metadata": {},
   "outputs": [],
   "source": [
    "candidate_dob =pass_cls.extract_dob(\"Date of Birth\")\n",
    "print(\"candidate_dob: \",candidate_dob)"
   ]
  },
  {
   "cell_type": "code",
   "execution_count": null,
   "id": "a172a05d",
   "metadata": {},
   "outputs": [],
   "source": [
    "candidate_gender =pass_cls.extract_gender(\"Sex\")\n",
    "print(\"candidate_gender: \",candidate_gender)"
   ]
  },
  {
   "cell_type": "code",
   "execution_count": null,
   "id": "39c32138",
   "metadata": {},
   "outputs": [],
   "source": [
    "candidate_pob =pass_cls.extract_pob(\"Place of Birth\")\n",
    "print(\"candidate_pob: \",candidate_pob)"
   ]
  },
  {
   "cell_type": "code",
   "execution_count": null,
   "id": "f1e2aa0a",
   "metadata": {},
   "outputs": [],
   "source": [
    "candidate_doi  =pass_cls.extract_doi(\"Date of Issue\")\n",
    "print(\"candidate_doi: \",candidate_doi)"
   ]
  },
  {
   "cell_type": "code",
   "execution_count": null,
   "id": "a41947ff",
   "metadata": {},
   "outputs": [],
   "source": [
    "candidate_doe =pass_cls.extract_doe(\"Date of Expiry\")\n",
    "print(\"candidate_doe: \",candidate_doe)"
   ]
  },
  {
   "cell_type": "code",
   "execution_count": null,
   "id": "23193b80",
   "metadata": {},
   "outputs": [],
   "source": [
    "candidate_doi,candidate_doe= filter_dates(candidate_doi,candidate_doe)\n",
    "print(\"candidate_doi: \",candidate_doi)\n",
    "print(\"candidate_doe: \",candidate_doe)"
   ]
  },
  {
   "cell_type": "code",
   "execution_count": null,
   "id": "eadfc6f5",
   "metadata": {},
   "outputs": [],
   "source": []
  },
  {
   "cell_type": "code",
   "execution_count": null,
   "id": "100f0883",
   "metadata": {},
   "outputs": [],
   "source": [
    "data = {}\n",
    "data[\"passport no.\"] = passport\n",
    "data['Surname'] = candidate_surname\n",
    "data['First Name'] = candidate_name\n",
    "data['Nationality'] = candidate_nationality\n",
    "data['Date of Birth'] = candidate_dob\n",
    "data['Place of Birth'] = candidate_pob\n",
    "data['Gender'] = candidate_gender\n",
    "data['Date of Expiry'] = candidate_doe\n",
    "data['Date of Issue'] = candidate_doi"
   ]
  },
  {
   "cell_type": "code",
   "execution_count": null,
   "id": "6c294950",
   "metadata": {},
   "outputs": [],
   "source": [
    "import io"
   ]
  },
  {
   "cell_type": "code",
   "execution_count": null,
   "id": "4dbd804e",
   "metadata": {},
   "outputs": [],
   "source": [
    "try:\n",
    "    to_unicode = unicode\n",
    "except NameError:\n",
    "    to_unicode = str\n",
    "\n",
    "# Write JSON file\n",
    "output_file_name = config.OUTPUT_SAVE_DIR+\n",
    "with io.open('/home/ubuntu/passport_parsing_v1/output/data.json', 'w', encoding='utf-8') as outfile:\n",
    "    str_ = json.dumps(data, indent=4, sort_keys=True, separators=(',', ': '), ensure_ascii=False)\n",
    "    outfile.write(to_unicode(str_))"
   ]
  },
  {
   "cell_type": "code",
   "execution_count": null,
   "id": "508a57d2",
   "metadata": {},
   "outputs": [],
   "source": [
    "passport=candidate_surname=candidate_name=candidate_nationality=\"None\""
   ]
  },
  {
   "cell_type": "code",
   "execution_count": null,
   "id": "c3de0f1c",
   "metadata": {},
   "outputs": [],
   "source": [
    "passport"
   ]
  },
  {
   "cell_type": "code",
   "execution_count": null,
   "id": "8579d6a2",
   "metadata": {},
   "outputs": [],
   "source": []
  }
 ],
 "metadata": {
  "kernelspec": {
   "display_name": "eval",
   "language": "python",
   "name": "eval"
  },
  "language_info": {
   "codemirror_mode": {
    "name": "ipython",
    "version": 3
   },
   "file_extension": ".py",
   "mimetype": "text/x-python",
   "name": "python",
   "nbconvert_exporter": "python",
   "pygments_lexer": "ipython3",
   "version": "3.8.10"
  }
 },
 "nbformat": 4,
 "nbformat_minor": 5
}
