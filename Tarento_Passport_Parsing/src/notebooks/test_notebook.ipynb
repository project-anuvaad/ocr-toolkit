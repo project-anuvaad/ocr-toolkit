{
 "cells": [
  {
   "cell_type": "code",
   "execution_count": 1,
   "metadata": {},
   "outputs": [],
   "source": [
    "import os\n",
    "import sys\n",
    "import uuid\n",
    "import cv2\n",
    "import numpy as np\n",
    "import matplotlib.pyplot as plt\n",
    "plt.rcParams['figure.dpi'] = 300\n",
    "import re\n",
    "import glob\n",
    "import json\n",
    "import requests\n",
    "import copy\n",
    "from time import sleep\n",
    "\n",
    "import pyperclip\n"
   ]
  },
  {
   "cell_type": "code",
   "execution_count": null,
   "metadata": {},
   "outputs": [],
   "source": [
    "nb_dir = '/'.join(os.getcwd().split('/')[:-1])\n",
    "sys.path.append(nb_dir)\n",
    "sys.path.append(os.path.split(nb_dir)[0])\n",
    "\n",
    "import config\n",
    "import src.utilities.app_context as app_context\n",
    "app_context.init()\n",
    "\n",
    "config.LINE_LAYOUT_MODEL_PATH = \"/home/ubuntu/layout-model-training/outputs/prima/mask_rcnn_R_50_FPN_3x/model_0024999.pth\"\n",
    "config.LINE_LAYOUT_CONFIG_PATH = \"/home/ubuntu/layout-model-training/outputs/prima/mask_rcnn_R_50_FPN_3x/config.yaml\"\n",
    "\n",
    "\n",
    "from src.services.main import OCR"
   ]
  },
  {
   "cell_type": "code",
   "execution_count": null,
   "metadata": {},
   "outputs": [],
   "source": []
  },
  {
   "cell_type": "code",
   "execution_count": null,
   "metadata": {},
   "outputs": [],
   "source": [
    "def get_app_context():\n",
    "\n",
    "    app_context.application_context = {  \n",
    "    \"config\": {\n",
    "        \"language\": {\n",
    "            \"sourceLanguage\": \"ta\"\n",
    "        }\n",
    "        \n",
    "    },\n",
    "    \"image\":[{\n",
    "    \"local_path\": \"/home/ubuntu/passport_parsing_v1/input/kd2.jpeg\"}\n",
    "    ],\n",
    "    \"dev_key\" : \"a861ff34-62cd-4dd5-b9f9-dd4733249a4\"\n",
    "}\n",
    "    \n",
    "    return app_context"
   ]
  },
  {
   "cell_type": "code",
   "execution_count": null,
   "metadata": {},
   "outputs": [],
   "source": [
    "resp = OCR(get_app_context())"
   ]
  },
  {
   "cell_type": "code",
   "execution_count": null,
   "metadata": {},
   "outputs": [],
   "source": [
    "resp = OCR(get_app_context())"
   ]
  },
  {
   "cell_type": "code",
   "execution_count": null,
   "metadata": {},
   "outputs": [],
   "source": []
  },
  {
   "cell_type": "code",
   "execution_count": null,
   "metadata": {},
   "outputs": [],
   "source": [
    "resp"
   ]
  },
  {
   "cell_type": "code",
   "execution_count": null,
   "metadata": {},
   "outputs": [],
   "source": [
    "tamil_image=[\"https://4.imimg.com/data4/PD/HE/NO/NSDMERP-31895448/31895448product11536052869-500x500.jpg\",\n",
    "            \"https://4.imimg.com/data4/NG/SC/NSDMERP-7025795/trafficrootboard-500x500.png\",\n",
    "             \"https://i.pinimg.com/originals/e8/88/67/e88867082f23aba9fe721ac2549c4335.jpg\"\n",
    "             \"https://media.gettyimages.com/photos/station-name-board-at-a-railroad-station-kanchipuram-tamil-nadu-india-picture-id140831311?s=612x612\"\n",
    "            \"https://i1.wp.com/thecognate.com/wp-content/uploads/2019/06/Fathima-Maqdooma-Morgenall.png?ssl=1\"\n",
    "            ]\n"
   ]
  },
  {
   "cell_type": "code",
   "execution_count": null,
   "metadata": {},
   "outputs": [],
   "source": [
    "pass_images=[\n",
    "    \"https://github.com/Lal4Tech/OCR-Identity-Cards/blob/master/Passport/passport_sample_cropped.jpg?raw=true\",\n",
    "    \"https://pbs.twimg.com/media/DaNab6_XUAIJdbV.jpg\",\n",
    "    \"https://imgv2-1-f.scribdassets.com/img/document/395424981/original/81feaf6802/1639748909?v=1\"\n",
    "    \n",
    "]"
   ]
  },
  {
   "cell_type": "code",
   "execution_count": null,
   "metadata": {},
   "outputs": [],
   "source": [
    "data  = ['भारत गणराज्य REPUBLIC OF INDIA', 'पासपोर्ट नं./ Passport No.', 'ष्ट्र काड / Country Code', 'सर्प / Type', 'D', 'IND', 'H2908283', 'स्पा / Surname', 'टिया गया नाम / Given Name(s)', 'MOHAMMED MUDASEER', 'Tसियि / Date of Birth', 'rnn / Nationality', 'सिंग / Sex', 'INDIAN', '04/04/1982', 'M', 'जन्म स्थान / Place of Birth', 'HYDERABAD', 'जारी करने का स्थान / Place of lssue', 'M. PAOS', 'HYDERABAD', 'urf S a Rif / Date of Issue', 'warta a RR / Date of Expiry', '09/02/2019', '10/02/2009', 'P<IND<<MOHAMME D<MUDASEER<<<<<<<<<<<<<<<<<<<<', 'H2908283<5IND8204044M1902097<<-:', '<<<<<']\n",
    "#data=['Ua OUTS REPUBLIC OF INDIA', 'reut ./ Passport No.', 'RTS Ts / Country Code', '=I lype', 'B', 'IND', 'K8016274', 'TTA / Surname', 'MANISH', 'Tda Ta T / Given Name(s)', 'GIRI', 'erecta / Nationality', 'fès / Sex', '-sai / Date of Birth', '17/01/1997', 'INDIAN', 'S- Te / Place of Birth', 'OLARIKKARA, KERALA', 'SIY BYA p T / Place of issue', 'COCHIN', 'Wese lotta', 'Gr rA a fèri / Date of Issue', 'waa a fafa / Date of Expiry', '12/03/2013', '27/07/2018', 'P<GIRI<<MANISH<<<<<K<K<IIIKIKIKIAIACIAIKIISCIKIAKKIC', 'K8016274<2IND9701170M1807277<<<<<<<<<<<<<<< 2']\n",
    "#data=['+H TUIN TSA REPUBLIC OF INDIA', 'IU', 'P4470692', 'MUHAMMED', 'APF UDDIN', 'WIYATA N INDIAN', '17/08/1988', 'HYDERABAD, TELANGANA', 'TRAS', 'HYDERABAD', 'PA', '08/09/2016', 'uUr/UY7/2U26', 'P<INDMOHAMMED<<NIZAM<UDDIN<<<<<C<CACa<<<<a<a<', 'P4470692<5IND8808176M2609072<<<<<<<<<<<<<<<0']\n",
    "#data=['TYE TTUINTUN REPUBLIC OF INDIA', 'ND', 'P2251480', 'SHINDE', '/ Liver', 'SANDESH RAMDAS', '03/04/1990', 'WIYATA / INDIAN', 'n0 oF DIri', 'BORI KH, MAHARASHTRA', '\"1a O! asul', 'PUNE', 'EGLA', \"' Uate Of a\", 'Cp', '30/08/2026', '31/08/2016', 'P<INDSHINDE<<SANDESH<RAMDAS<<<<eed00<<<<<<<<<', 'P2251480<11IND9006038M2608307<<<<<<<<<<<<<<<B', 'Scanned by CamScanner']\n",
    "#data=['HTI TTUT TSY REPUBLIC OF INDIA', 'mate i. / Passport No.', 'WI WTS / Country Code', '=u lype', 's7427035', 'IND', 'A', '=\" / Surname', 'GEORGE DEVA SAHAYAM', 'fran an s Given Name(s)', 'JOE ANTON JERIFF', 'nidi Date of Binh', 'fér / Sex', 'rrufe / Nationalty', '13/07/1998', 'UTAT N INDIAN', 'M', 'us Te Pice c! Birth', 'THISAYANVILAI, TAMIL NADU', 'oufi rA a a / Place of Issue', 'CHENNAI', '77 Data of Expiry', 'TAI', 'wt mnei 1 FiA / Date of Issue.', '29/10/2028', '30/10/2018', 'P<INDGEORGE<DEVA<SAHAYAM<<JOE<ANTON<JERIFF<<', '37427035<2IND9807132M2810294<<<<<<<<<<<<<<<6', 'Scanned by CamScanner']\n",
    "#data=['HA TUTIGA REPUBLIC OF INDIA', \"' Country Code\", 'ror = / Passpoti Na.', 'E', 'iyi', 'R7123405', '/ Surname', 'PA T I Livan |', 'MAQDOOMA FATHIMA', '1 SAE', 'CHIE / NALON', '/ Data of Birth', 'urri INDIAN', '23/06/1981', 'GP Ta PIAC Ol DIrith', 'CHENNAI, TAMIL NADU', 'O T I TI / FACe OT', 'BENGALURU', 'S e I N / Date of as', 'Mploma jaina', '14/12/2027', '15/12/2017', 'P<IND<<MAQDOOMA<FATHIMA<<<<<<<<X <<<', 'R7123405<3IND8106230F2712147<<<<<<<<<<<<<<< 2']\n",
    "#data=['TYPI TTUTYTUSJ BEPUBLIC OF TINDIA', '-s Country Code', '\"p \\' F\\'asspor 0.', 'T', 'IND', '”', '17213058', 'PASHA', 'rr / Given Narn', '1HFAN', 'E', 'rW / Temon', '31/03/1980', 'INDIAN', 'LE', 'BANGALORE KABNATAKA', '\"s / Fao O1 ns', 'DUBAI', 'N', 'I / Date of as', '?23/03/2024', '24/03/2014']\n",
    "data=['भारल गणराज्य REPUBLIC OF INDIA', 'टाइप । । ype', 'reia =E /Couniry Code', 'घारी ग. ।Nassport NO.', 'IND', 'BB 5000479', 'yus /[oSurname', 'SHAH', 'सिये कयै मामा Given Names', 'RIYA', 'uan Nationality', 'Tom /Sex', 'जन्मालियि Date of Birth', '05/05/1998', 'INDIAN', 't auns Place of Birth', 'GUJARAT', '=', 'AE', 'मारी रले खयं स्था [Place of Issue', 'DELHI', 'जारी छारे यछा Ta Date Of Issue IMGT a WAT /Vale ol EXpiry', '28/06/2001', '29/06/2000', '4', 'P< INDSHAH<<RIYA<<<', 'B5000479<2IND9805057F0106289<<<<<<<<<<<<<<<?']\n",
    "data=['\"`t SI REPUBLIC OF IEDER', 'G927', 'IND', 'KUNAR', 'MOHAN', 'PVO', '241/0', 'INDIAN', 'f Dur', 'MANDYA KARNATAKA', 'N', 'SYDNEY', '7', '08/07/7/?72008', 'a7', 'aN A']"
   ]
  },
  {
   "cell_type": "code",
   "execution_count": null,
   "metadata": {},
   "outputs": [],
   "source": [
    "\n",
    "def clean_data(data):\n",
    "\n",
    "    filetered_lines=[]\n",
    "    for line in data:\n",
    "        words=line.split()\n",
    "        l = [w for w in words if re.match(r'[a-zA-Z0-9_.)-/(]*$', w, re.I)]\n",
    "\n",
    "        filetered_line = \" \".join(k for k in l if k != \"/\")\n",
    "        filetered_lines.append(filetered_line)\n",
    "    return filetered_lines\n"
   ]
  },
  {
   "cell_type": "code",
   "execution_count": null,
   "metadata": {},
   "outputs": [],
   "source": [
    "filetered_lines=clean_data(data)"
   ]
  },
  {
   "cell_type": "code",
   "execution_count": null,
   "metadata": {},
   "outputs": [],
   "source": [
    "filetered_lines=data"
   ]
  },
  {
   "cell_type": "code",
   "execution_count": null,
   "metadata": {},
   "outputs": [],
   "source": [
    " re.match(r'[A-Za-z]{1}[0-9]{7}', 'a7123405')"
   ]
  },
  {
   "cell_type": "code",
   "execution_count": null,
   "metadata": {},
   "outputs": [],
   "source": [
    "def find_and_remove_index(lis,ele,tmp_indx):\n",
    "    if ele is not None:\n",
    "        indx = lis.index(ele)\n",
    "        del lis[indx]\n",
    "    \n",
    "    return lis"
   ]
  },
  {
   "cell_type": "code",
   "execution_count": null,
   "metadata": {},
   "outputs": [],
   "source": [
    "def find_index(lis,ele,tmp_indx):\n",
    "    if ele is not None:\n",
    "        indx = lis.index(ele)\n",
    "        return indx\n",
    "    return tmp_indx"
   ]
  },
  {
   "cell_type": "code",
   "execution_count": null,
   "metadata": {},
   "outputs": [],
   "source": [
    "def filter_dates(ids,eds):\n",
    "    if ids is not None and eds is not None:\n",
    "        if int(ids.split(\"/\")[-1])>int(eds.split(\"/\")[-1]):\n",
    "            return eds,ids\n",
    "        else:\n",
    "            return ids,eds\n",
    "    else:\n",
    "        return ids,eds"
   ]
  },
  {
   "cell_type": "code",
   "execution_count": null,
   "metadata": {},
   "outputs": [],
   "source": []
  },
  {
   "cell_type": "code",
   "execution_count": null,
   "metadata": {},
   "outputs": [],
   "source": []
  },
  {
   "cell_type": "code",
   "execution_count": null,
   "metadata": {},
   "outputs": [],
   "source": [
    "classes =[\n",
    "    \"Passport No.\",\n",
    "    \"Given Name(s)\",\n",
    "    \"Surname\",\n",
    "    \"Date of Birth\",\n",
    "    \"Nationality\",\n",
    "    \"Sex\",\n",
    "    \"Place of Birth\",\n",
    "    \"Date of Issue\",\n",
    "    \"Date of Expiry\"\n",
    "    \n",
    "]"
   ]
  },
  {
   "cell_type": "code",
   "execution_count": null,
   "metadata": {},
   "outputs": [],
   "source": [
    "global prev_idx\n",
    "prev_idx=0"
   ]
  },
  {
   "cell_type": "code",
   "execution_count": null,
   "metadata": {},
   "outputs": [],
   "source": [
    "def check_pattern(pattern,lis,cls,prev_idx=None,content_check=None):\n",
    "    tmp_lis = lis\n",
    "    try:\n",
    "        for idx,key in enumerate(lis):\n",
    "            if cls in key:\n",
    "                if content_check is not None:\n",
    "                    l=[w for w in lis[idx+1:] if re.match(pattern, w) and content_check in w]\n",
    "                else:\n",
    "                    l=[w for w in lis[idx+1:] if re.match(pattern, w) and w not in classes]\n",
    "                if len(l)>0:\n",
    "                    idx  = find_index(lis,l[0],idx+1)\n",
    "                if len(l)>0:  return idx,l[0]\n",
    "\n",
    "        if prev_idx is not None:\n",
    "            lis=lis[prev_idx+1:]\n",
    "\n",
    "        if content_check is not None:\n",
    "            l=[w for w in lis if re.match(pattern, w) and  content_check in w]\n",
    "\n",
    "        else:\n",
    "            l=[w for w in lis if re.match(pattern, w) and w not in classes]\n",
    "        if len(l)>0:\n",
    "            idx  = find_index(tmp_lis,l[0],prev_idx)\n",
    "            return idx,l[0]\n",
    "        return prev_idx,None\n",
    "    except:\n",
    "        return prev_idx,None\n",
    "\n",
    "class PassportClass():\n",
    "    \n",
    "    def __init__(self,prev_idx,filetered_lines):\n",
    "        self.prev_idx = prev_idx\n",
    "        self.filetered_lines=filetered_lines\n",
    "    \n",
    "    \n",
    "    def extract_passport_number(self,cls):\n",
    "        \n",
    "        self.prev_idx, val = check_pattern(r'[A-Za-z]{1}[0-9]{7}',self.filetered_lines,cls,prev_idx=None)\n",
    "        return val\n",
    "    def extract_candidate_name(self,cls):\n",
    "        \n",
    "        self.prev_idx, val = check_pattern(r'[A-Za-z]',self.filetered_lines,cls,prev_idx=self.prev_idx)\n",
    "        return val\n",
    "\n",
    "    def extract_surname(self,cls):\n",
    "        self.prev_idx, val = check_pattern(r'[A-Za-z]',self.filetered_lines,cls,prev_idx=self.prev_idx)\n",
    "        return val\n",
    "    def extract_dob(self,cls):\n",
    "        tmp_idx=self.prev_idx\n",
    "        self.prev_idx, val = check_pattern(r'\\d{2}\\/\\d{2}\\/\\d{4}',self.filetered_lines,cls)\n",
    "        self.filetered_lines = find_and_remove_index(self.filetered_lines,val,tmp_idx)\n",
    "        self.prev_idx = tmp_idx\n",
    "        return val\n",
    "\n",
    "    def extract_nationality(self,cls):\n",
    "        content_check = \"INDIAN\"\n",
    "        self.prev_idx, val = check_pattern(r'[A-Za-z]',self.filetered_lines,cls,prev_idx=self.prev_idx,content_check=content_check)\n",
    "        return val\n",
    "\n",
    "    def extract_gender(self,cls):\n",
    "        for idx,key in enumerate(self.filetered_lines):\n",
    "            if cls in key:\n",
    "                l=[w for w in self.filetered_lines if w  in [\"M\",\"F\",\"m\",\"f\"]]\n",
    "                if len(l)>0:  return l[0]\n",
    "        l=[w for w in self.filetered_lines if w  in [\"M\",\"F\",\"m\",\"f\"]]\n",
    "        if len(l)>0:\n",
    "            return l[0]\n",
    "        return None\n",
    "    \n",
    "    def extract_pob(self,cls):\n",
    "        self.prev_idx, val = check_pattern(r'[A-Za-z]',self.filetered_lines,cls,self.prev_idx)\n",
    "        return val\n",
    "\n",
    "    def extract_doi(self,cls):\n",
    "        self.prev_idx, val = check_pattern(r'\\d{2}\\/\\d{2}\\/\\d{4}',self.filetered_lines,cls)\n",
    "        self.filetered_lines = find_and_remove_index(self.filetered_lines,val,self.prev_idx)\n",
    "        return val\n",
    "\n",
    "    def extract_doe(self,cls):\n",
    "        self.prev_idx, val = check_pattern(r'\\d{2}\\/\\d{2}\\/\\d{4}',self.filetered_lines,cls)\n",
    "        return val\n",
    "        \n"
   ]
  },
  {
   "cell_type": "code",
   "execution_count": null,
   "metadata": {},
   "outputs": [],
   "source": [
    "pass_cls = PassportClass(prev_idx=0,filetered_lines=filetered_lines)\n"
   ]
  },
  {
   "cell_type": "code",
   "execution_count": null,
   "metadata": {},
   "outputs": [],
   "source": [
    "passport = pass_cls.extract_passport_number(\"Passport No.\")\n",
    "print(\"passport no: \",passport)\n",
    "\n",
    "    "
   ]
  },
  {
   "cell_type": "code",
   "execution_count": null,
   "metadata": {},
   "outputs": [],
   "source": [
    "candidate_surname =pass_cls.extract_surname(\"Surname\")\n",
    "print(\"candidate_surname: \",candidate_surname)"
   ]
  },
  {
   "cell_type": "code",
   "execution_count": null,
   "metadata": {},
   "outputs": [],
   "source": [
    "candidate_name = pass_cls.extract_candidate_name(\"Given Name\")\n",
    "print(\"candidate_name: \",candidate_name)\n"
   ]
  },
  {
   "cell_type": "code",
   "execution_count": null,
   "metadata": {},
   "outputs": [],
   "source": [
    "candidate_nationality =pass_cls.extract_nationality(\"Nationality\")\n",
    "print(\"candidate_nationality: \",candidate_nationality)"
   ]
  },
  {
   "cell_type": "code",
   "execution_count": null,
   "metadata": {},
   "outputs": [],
   "source": [
    "candidate_dob =pass_cls.extract_dob(\"Date of Birth\")\n",
    "print(\"candidate_dob: \",candidate_dob)"
   ]
  },
  {
   "cell_type": "code",
   "execution_count": null,
   "metadata": {},
   "outputs": [],
   "source": [
    "candidate_gender =pass_cls.extract_gender(\"Sex\")\n",
    "print(\"candidate_gender: \",candidate_gender)"
   ]
  },
  {
   "cell_type": "code",
   "execution_count": null,
   "metadata": {},
   "outputs": [],
   "source": [
    "candidate_pob =pass_cls.extract_pob(\"Place of Birth\")\n",
    "print(\"candidate_pob: \",candidate_pob)"
   ]
  },
  {
   "cell_type": "code",
   "execution_count": null,
   "metadata": {},
   "outputs": [],
   "source": [
    "candidate_doi  =pass_cls.extract_doi(\"Date of Issue\")\n",
    "print(\"candidate_doi: \",candidate_doi)"
   ]
  },
  {
   "cell_type": "code",
   "execution_count": null,
   "metadata": {},
   "outputs": [],
   "source": [
    "candidate_doe =pass_cls.extract_doe(\"Date of Expiry\")\n",
    "print(\"candidate_doe: \",candidate_doe)"
   ]
  },
  {
   "cell_type": "code",
   "execution_count": null,
   "metadata": {},
   "outputs": [],
   "source": [
    "candidate_doi,candidate_doe= filter_dates(candidate_doi,candidate_doe)\n",
    "print(\"candidate_doi: \",candidate_doi)\n",
    "print(\"candidate_doe: \",candidate_doe)"
   ]
  },
  {
   "cell_type": "code",
   "execution_count": null,
   "metadata": {},
   "outputs": [],
   "source": []
  },
  {
   "cell_type": "code",
   "execution_count": null,
   "metadata": {},
   "outputs": [],
   "source": [
    "data = {}\n",
    "data[\"passport no.\"] = passport\n",
    "data['Surname'] = candidate_surname\n",
    "data['First Name'] = candidate_name\n",
    "data['Nationality'] = candidate_nationality\n",
    "data['Date of Birth'] = candidate_dob\n",
    "data['Place of Birth'] = candidate_pob\n",
    "data['Gender'] = candidate_gender\n",
    "data['Date of Expiry'] = candidate_doe\n",
    "data['Date of Issue'] = candidate_doi"
   ]
  },
  {
   "cell_type": "code",
   "execution_count": null,
   "metadata": {},
   "outputs": [],
   "source": [
    "import io"
   ]
  },
  {
   "cell_type": "code",
   "execution_count": null,
   "metadata": {},
   "outputs": [],
   "source": [
    "try:\n",
    "    to_unicode = unicode\n",
    "except NameError:\n",
    "    to_unicode = str\n",
    "\n",
    "# Write JSON file\n",
    "output_file_name = config.OUTPUT_SAVE_DIR+\n",
    "with io.open('/home/ubuntu/passport_parsing_v1/output/data.json', 'w', encoding='utf-8') as outfile:\n",
    "    str_ = json.dumps(data, indent=4, sort_keys=True, separators=(',', ': '), ensure_ascii=False)\n",
    "    outfile.write(to_unicode(str_))"
   ]
  },
  {
   "cell_type": "code",
   "execution_count": null,
   "metadata": {},
   "outputs": [],
   "source": [
    "passport=candidate_surname=candidate_name=candidate_nationality=\"None\""
   ]
  },
  {
   "cell_type": "code",
   "execution_count": null,
   "metadata": {},
   "outputs": [],
   "source": [
    "passport"
   ]
  },
  {
   "cell_type": "code",
   "execution_count": null,
   "metadata": {},
   "outputs": [],
   "source": []
  }
 ],
 "metadata": {
  "kernelspec": {
   "display_name": "layout",
   "language": "python",
   "name": "layout"
  },
  "language_info": {
   "codemirror_mode": {
    "name": "ipython",
    "version": 3
   },
   "file_extension": ".py",
   "mimetype": "text/x-python",
   "name": "python",
   "nbconvert_exporter": "python",
   "pygments_lexer": "ipython3",
   "version": "3.6.9"
  }
 },
 "nbformat": 4,
 "nbformat_minor": 5
}
